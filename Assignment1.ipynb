{
  "nbformat": 4,
  "nbformat_minor": 0,
  "metadata": {
    "colab": {
      "name": "Assignment1.ipynb",
      "provenance": [],
      "collapsed_sections": []
    },
    "kernelspec": {
      "name": "python3",
      "display_name": "Python 3"
    },
    "language_info": {
      "name": "python"
    }
  },
  "cells": [
    {
      "cell_type": "markdown",
      "source": [
        "1.Write a Python program to print the following string in a specific format (see the output). \n",
        "\n",
        "        Twinkle, twinkle, little star,\n",
        "            How I wonder what you are!\n",
        "              Up above the world so high,\n",
        "              Like a diamond in the sky.\n",
        "       Twinkle, twinkle, little star,\n",
        "            How I wonder what you are!\n"
      ],
      "metadata": {
        "id": "Tfhep1P1gYkO"
      }
    },
    {
      "cell_type": "code",
      "source": [
        "print(\"Twinkle, twinkle, little star,\\n\\tHow I wonder what you are!\\n\\t\\tUp above the world so high,\\n\\t\\tLike a diamond in the sky.\\nTwinkle, twinkle, little star,\\n\\tHow I wonder what you are!\")"
      ],
      "metadata": {
        "colab": {
          "base_uri": "https://localhost:8080/"
        },
        "id": "Sy3AcREVh4J1",
        "outputId": "c8526b29-453d-4365-e4fb-4411cb8913f0"
      },
      "execution_count": 1,
      "outputs": [
        {
          "output_type": "stream",
          "name": "stdout",
          "text": [
            "Twinkle, twinkle, little star,\n",
            "\tHow I wonder what you are!\n",
            "\t\tUp above the world so high,\n",
            "\t\tLike a diamond in the sky.\n",
            "Twinkle, twinkle, little star,\n",
            "\tHow I wonder what you are!\n"
          ]
        }
      ]
    },
    {
      "cell_type": "markdown",
      "source": [
        "2.Write a Python program to get the Python version you are using "
      ],
      "metadata": {
        "id": "lXy93fiIiqFx"
      }
    },
    {
      "cell_type": "code",
      "source": [
        "import sys\n",
        "print(sys.version)"
      ],
      "metadata": {
        "colab": {
          "base_uri": "https://localhost:8080/"
        },
        "id": "tRVEoYn5jAjF",
        "outputId": "bdd7fe90-2419-46c3-940b-73514d536c99"
      },
      "execution_count": null,
      "outputs": [
        {
          "output_type": "stream",
          "name": "stdout",
          "text": [
            "3.7.12 (default, Sep 10 2021, 00:21:48) \n",
            "[GCC 7.5.0]\n"
          ]
        }
      ]
    },
    {
      "cell_type": "markdown",
      "source": [
        "3.Write a Python program to display the current date and time "
      ],
      "metadata": {
        "id": "uEU4M4kkjeaR"
      }
    },
    {
      "cell_type": "code",
      "source": [
        "import datetime\n",
        "now = datetime.datetime.now()\n",
        "print(now.strftime(f\"Date : %Y-%m-%d\\nTime :%H:%M:%S\"))\n"
      ],
      "metadata": {
        "colab": {
          "base_uri": "https://localhost:8080/"
        },
        "id": "brsnpllsjgv7",
        "outputId": "1ead086e-11e7-4c85-e2d6-1e02fe81fb82"
      },
      "execution_count": 2,
      "outputs": [
        {
          "output_type": "stream",
          "name": "stdout",
          "text": [
            "Date : 2022-01-01\n",
            "Time :18:20:07\n"
          ]
        }
      ]
    },
    {
      "cell_type": "markdown",
      "source": [
        "4.Write a Python program which accepts the radius of a circle from the user and compute the area. \n"
      ],
      "metadata": {
        "id": "DNnzc8ijkbfn"
      }
    },
    {
      "cell_type": "code",
      "source": [
        "import math\n",
        "r = float(input(\"Enter a Radius :\"))\n",
        "area = math.pi * (r*r)\n",
        "print(\"Area\",area)"
      ],
      "metadata": {
        "colab": {
          "base_uri": "https://localhost:8080/"
        },
        "id": "DGtqWODy3zjT",
        "outputId": "cda52036-e169-4db5-be20-b4924c08c104"
      },
      "execution_count": 5,
      "outputs": [
        {
          "output_type": "stream",
          "name": "stdout",
          "text": [
            "Enter a Radius :45\n",
            "Area 6361.725123519331\n"
          ]
        }
      ]
    },
    {
      "cell_type": "markdown",
      "source": [
        "5.Write a Python program which accepts the users first and last name and print them in reverse order with a space between them. \n"
      ],
      "metadata": {
        "id": "-SHc9VWWkgzw"
      }
    },
    {
      "cell_type": "code",
      "source": [
        "firstName = input(\"Enter First Name : \")\n",
        "LastName = input(\"Enter Last Name : \")\n",
        "print('{} {}'.format(LastName,firstName))"
      ],
      "metadata": {
        "id": "lbOjfOn0j58W",
        "colab": {
          "base_uri": "https://localhost:8080/"
        },
        "outputId": "2b88a7af-b1e9-4695-937a-7bdb008ddc15"
      },
      "execution_count": 8,
      "outputs": [
        {
          "output_type": "stream",
          "name": "stdout",
          "text": [
            "Enter First Name : sarmad\n",
            "Enter Last Name : ali\n",
            "ali sarmad\n"
          ]
        }
      ]
    },
    {
      "cell_type": "markdown",
      "source": [
        "6.Write a python program which takes two Inputs from user and print them addition"
      ],
      "metadata": {
        "id": "T8Q5mW0lkpCs"
      }
    },
    {
      "cell_type": "code",
      "source": [
        "num1 = int(input(\"Enter 1st Number: \"))\n",
        "num2 = int(input(\"Enter 2nd Number: \"))\n",
        "\n",
        "Add = num1 + num2\n",
        "print(f\"Addition : {int(Add)}\")"
      ],
      "metadata": {
        "colab": {
          "base_uri": "https://localhost:8080/"
        },
        "id": "gX3tORcf4Y4W",
        "outputId": "615fb922-732e-4cf0-ade0-8f7db3e32282"
      },
      "execution_count": 9,
      "outputs": [
        {
          "output_type": "stream",
          "name": "stdout",
          "text": [
            "Enter 1st Number: 65\n",
            "Enter 2nd Number: 67\n",
            "Addition : 132\n"
          ]
        }
      ]
    },
    {
      "cell_type": "code",
      "source": [
        ""
      ],
      "metadata": {
        "id": "RD1hmWmz4l_Z"
      },
      "execution_count": null,
      "outputs": []
    }
  ]
}